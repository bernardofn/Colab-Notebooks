{
  "nbformat": 4,
  "nbformat_minor": 0,
  "metadata": {
    "colab": {
      "name": "Time_series_Prophet.ipynb",
      "version": "0.3.2",
      "provenance": [],
      "toc_visible": true,
      "include_colab_link": true
    },
    "kernelspec": {
      "name": "python2",
      "display_name": "Python 2"
    }
  },
  "cells": [
    {
      "cell_type": "markdown",
      "metadata": {
        "id": "view-in-github",
        "colab_type": "text"
      },
      "source": [
        "<a href=\"https://colab.research.google.com/github/bernardofn/Time-series-Colab-Notebooks/blob/master/Time_series_Prophet.ipynb\" target=\"_parent\"><img src=\"https://colab.research.google.com/assets/colab-badge.svg\" alt=\"Open In Colab\"/></a>"
      ]
    },
    {
      "metadata": {
        "id": "mZZmNFN7q_1u",
        "colab_type": "text"
      },
      "cell_type": "markdown",
      "source": [
        "# <font color=Darkred>Time series</font>\n",
        "\n",
        "---\n",
        "\n",
        "\n",
        "## <font color=Darkblue>Forecasting </font>\n",
        "\n",
        "The data comes from **[WMFLabs](http://tools.wmflabs.org/pageviews/)**.\n",
        "<br>\n",
        "Using Facebook **[Prophet](https://facebook.github.io/prophet/)**"
      ]
    },
    {
      "metadata": {
        "id": "IMWm4DKYrV3n",
        "colab_type": "text"
      },
      "cell_type": "markdown",
      "source": [
        "<br><br>\n",
        "### <font color=Darkred>** 1. Install Prophet and other required libraries/packages:**</font>\n"
      ]
    },
    {
      "metadata": {
        "id": "JEhvrXhCtITd",
        "colab_type": "code",
        "colab": {}
      },
      "cell_type": "code",
      "source": [
        "from IPython.display import clear_output\n",
        "try:\n",
        "  !pip install pystan\n",
        "  !pip install fbprophet\n",
        "except:\n",
        "  pass\n",
        "finally:\n",
        "  clear_output()\n",
        "  print('All Loaded')"
      ],
      "execution_count": 0,
      "outputs": []
    },
    {
      "metadata": {
        "id": "HMpSn9-lteQe",
        "colab_type": "code",
        "colab": {}
      },
      "cell_type": "code",
      "source": [
        "import pandas as pd\n",
        "import numpy as np\n",
        "import matplotlib.pyplot as plt\n",
        "import datetime\n",
        "from fbprophet import Prophet"
      ],
      "execution_count": 0,
      "outputs": []
    },
    {
      "metadata": {
        "id": "SEoc4JDfuC7f",
        "colab_type": "text"
      },
      "cell_type": "markdown",
      "source": [
        "<br><br>\n",
        "### <font color=Darkred>**2. Import the dataset **</font>"
      ]
    },
    {
      "metadata": {
        "id": "5pSN7W13uGdC",
        "colab_type": "code",
        "colab": {}
      },
      "cell_type": "code",
      "source": [
        "from google.colab import files\n",
        "uploaded = files.upload()"
      ],
      "execution_count": 0,
      "outputs": []
    },
    {
      "metadata": {
        "id": "KIJxIkBQuJLl",
        "colab_type": "code",
        "colab": {}
      },
      "cell_type": "code",
      "source": [
        "#Save uploaded file on the Virtual Machine's  \n",
        "\n",
        "with open(\"pageviews-gh.csv\", 'w') as f:\n",
        "    f.write(uploaded[uploaded.keys()[0]])"
      ],
      "execution_count": 0,
      "outputs": []
    },
    {
      "metadata": {
        "id": "NtuEv_HxuL3k",
        "colab_type": "code",
        "colab": {}
      },
      "cell_type": "code",
      "source": [
        "# Once your file is on the Virtual Machine, you can check if the file is there.\n",
        "!ls"
      ],
      "execution_count": 0,
      "outputs": []
    },
    {
      "metadata": {
        "id": "IBYkc1mCuVEC",
        "colab_type": "text"
      },
      "cell_type": "markdown",
      "source": [
        "<br><br>\n",
        "### <font color=Darkred>**3. Declare the dataset as a data frame and visualise it**</font>"
      ]
    },
    {
      "metadata": {
        "id": "ojICZ5XMuX3f",
        "colab_type": "code",
        "colab": {}
      },
      "cell_type": "code",
      "source": [
        "ts_data = pd.read_csv(\"pageviews-gh.csv\")\n",
        "ts_data[\"Date\"]= pd.to_datetime(ts_data[\"Date\"])  # changing format of Date\n",
        "\n",
        "ts_data.head(5)"
      ],
      "execution_count": 0,
      "outputs": []
    },
    {
      "metadata": {
        "id": "USDJiSgawibl",
        "colab_type": "code",
        "colab": {}
      },
      "cell_type": "code",
      "source": [
        "ts_data.shape # It contains 1257 rows and 2 columns."
      ],
      "execution_count": 0,
      "outputs": []
    },
    {
      "metadata": {
        "id": "ktJ9Vcxf5fIm",
        "colab_type": "code",
        "colab": {}
      },
      "cell_type": "code",
      "source": [
        "ts_data.dtypes"
      ],
      "execution_count": 0,
      "outputs": []
    },
    {
      "metadata": {
        "id": "xSUQE3Plwr0_",
        "colab_type": "text"
      },
      "cell_type": "markdown",
      "source": [
        "<br><br>\n",
        "### <font color=Darkred>**4. Take a look at the descriptive stats**</font>\n",
        "\n",
        "* What is the min/average/max numbe of visits per day?\n"
      ]
    },
    {
      "metadata": {
        "id": "qEZn3jqjw2A_",
        "colab_type": "code",
        "colab": {}
      },
      "cell_type": "code",
      "source": [
        "ts_data.describe().round(3)"
      ],
      "execution_count": 0,
      "outputs": []
    },
    {
      "metadata": {
        "id": "GxqRgSibw-md",
        "colab_type": "code",
        "colab": {}
      },
      "cell_type": "code",
      "source": [
        "# Create a histogram to observe the distribution of visits (per day)\n",
        "ts_data['Growth hacking'].hist(color='red', alpha=0.5, bins=20)\n",
        "\n",
        "# Add labels\n",
        "plt.title('Histogram')\n",
        "plt.xlabel('Visits per day')\n",
        "plt.ylabel('Frequency')"
      ],
      "execution_count": 0,
      "outputs": []
    },
    {
      "metadata": {
        "id": "vfUKUt8d5z8f",
        "colab_type": "code",
        "colab": {}
      },
      "cell_type": "code",
      "source": [
        "# Create a line chart to observe the evolution of visits (per day)\n",
        "\n",
        "ts_data.set_index('Date').plot(color='red', alpha=0.5);"
      ],
      "execution_count": 0,
      "outputs": []
    },
    {
      "metadata": {
        "id": "rcSLaWJlGjlT",
        "colab_type": "text"
      },
      "cell_type": "markdown",
      "source": [
        "<br><br>\n",
        "### <font color=Darkred>**5. Declare the variable to predict ($y$) and the date ($ds$) **</font>"
      ]
    },
    {
      "metadata": {
        "id": "raA23g5PGqdx",
        "colab_type": "code",
        "colab": {}
      },
      "cell_type": "code",
      "source": [
        "ts_data.columns = [\"ds\", \"y\"]\n",
        "ts_data['cap'] = 1200\n",
        "ts_data['floor'] = 0\n",
        "ts_data.head(5)"
      ],
      "execution_count": 0,
      "outputs": []
    },
    {
      "metadata": {
        "id": "zf-LiFVMHCU1",
        "colab_type": "text"
      },
      "cell_type": "markdown",
      "source": [
        "<br><br>\n",
        "### <font color=Darkred>**6. Making a prediction **</font>"
      ]
    },
    {
      "metadata": {
        "id": "pcNfR1gnH5Sj",
        "colab_type": "text"
      },
      "cell_type": "markdown",
      "source": [
        "* Create the first model ($m_1$) and fit the data to our dataframe:"
      ]
    },
    {
      "metadata": {
        "id": "z5oDOfOjH_cB",
        "colab_type": "code",
        "colab": {}
      },
      "cell_type": "code",
      "source": [
        "m1 = Prophet(growth='logistic')\n",
        "m1.fit(ts_data);"
      ],
      "execution_count": 0,
      "outputs": []
    },
    {
      "metadata": {
        "id": "j9gm5BX0IsDD",
        "colab_type": "text"
      },
      "cell_type": "markdown",
      "source": [
        "<br><br>\n",
        "* To tell **Prophet** how far to predict in the future, use  ```make_future_dataframe```. "
      ]
    },
    {
      "metadata": {
        "id": "2H6ESg9TJCty",
        "colab_type": "code",
        "colab": {}
      },
      "cell_type": "code",
      "source": [
        "# In this example, we will predict out 1 year (365 days).\n",
        "future365dd = m1.make_future_dataframe(periods=365)\n",
        "future365dd['cap'] = 1200\n",
        "future365dd['floor'] = 0\n",
        "\n",
        "# Then make the forecast\n",
        "forecast12mm = m1.predict(future365dd)"
      ],
      "execution_count": 0,
      "outputs": []
    },
    {
      "metadata": {
        "id": "p0li_WcyJmZx",
        "colab_type": "text"
      },
      "cell_type": "markdown",
      "source": [
        "<br><br>\n",
        "* The ```forecast12mm``` is a pandas dataframe. The predicted value is called ```yhat``` and the range is defined by ```yhat_lower``` and ```yhat_upper```."
      ]
    },
    {
      "metadata": {
        "id": "FN4QRVg5J6jm",
        "colab_type": "code",
        "colab": {}
      },
      "cell_type": "code",
      "source": [
        "# To see the last 5 predicted values:\n",
        "forecast12mm[['ds', 'yhat', 'yhat_lower', 'yhat_upper','cap','floor']].tail()"
      ],
      "execution_count": 0,
      "outputs": []
    },
    {
      "metadata": {
        "id": "WyowijpKL1qM",
        "colab_type": "code",
        "colab": {}
      },
      "cell_type": "code",
      "source": [
        "# Plot the data\n",
        "m1.plot(forecast12mm);"
      ],
      "execution_count": 0,
      "outputs": []
    },
    {
      "metadata": {
        "id": "-VIwF8mMMYU6",
        "colab_type": "text"
      },
      "cell_type": "markdown",
      "source": [
        "<br><br>\n",
        "* The other useful feature is the ability to plot the various components:"
      ]
    },
    {
      "metadata": {
        "id": "UCkzaZFiMNpS",
        "colab_type": "code",
        "colab": {}
      },
      "cell_type": "code",
      "source": [
        "m1.plot_components(forecast12mm);"
      ],
      "execution_count": 0,
      "outputs": []
    },
    {
      "metadata": {
        "id": "T8PV1m1FYyv5",
        "colab_type": "text"
      },
      "cell_type": "markdown",
      "source": [
        "<br><br>\n",
        "### <font color=Darkred>**7. Diagnostics **</font>"
      ]
    },
    {
      "metadata": {
        "id": "OhUPr9K6Y8e8",
        "colab_type": "text"
      },
      "cell_type": "markdown",
      "source": [
        "* Prophet includes functionality for time series cross validation to measure forecast error using historical data. \n",
        "* This is done by selecting cutoff points in the history, and for each of them fitting the model using data only up to that cutoff point. \n",
        "* We can then compare the forecasted values to the actual values. \n",
        "<br>\n",
        "For more info about Diagnostics, check [here](https://facebook.github.io/prophet/docs/diagnostics.html)."
      ]
    },
    {
      "metadata": {
        "id": "LmF_F8n2brnv",
        "colab_type": "code",
        "colab": {}
      },
      "cell_type": "code",
      "source": [
        "# Cross-validation\n",
        "from fbprophet.diagnostics import cross_validation\n",
        "df_cv = cross_validation(m1, horizon = '90 days')\n",
        "df_cv.head()"
      ],
      "execution_count": 0,
      "outputs": []
    },
    {
      "metadata": {
        "id": "QGGyzTrtcqWD",
        "colab_type": "code",
        "colab": {}
      },
      "cell_type": "code",
      "source": [
        "# Performance metrics\n",
        "from fbprophet.diagnostics import performance_metrics\n",
        "df_p = performance_metrics(df_cv)\n",
        "df_p.head()"
      ],
      "execution_count": 0,
      "outputs": []
    },
    {
      "metadata": {
        "id": "4wU0xly3dfoX",
        "colab_type": "code",
        "colab": {}
      },
      "cell_type": "code",
      "source": [
        "# Visualizing the performance metrics\n",
        "from fbprophet.plot import plot_cross_validation_metric\n",
        "fig = plot_cross_validation_metric(df_cv, metric='rmse')"
      ],
      "execution_count": 0,
      "outputs": []
    },
    {
      "metadata": {
        "id": "8Kfr1JoxRFnq",
        "colab_type": "text"
      },
      "cell_type": "markdown",
      "source": [
        "<br><br>\n",
        "Generally, this notebook gives you a framework for getting data from Wikipedia visits and processing it with Propet to make forecasts. "
      ]
    }
  ]
}